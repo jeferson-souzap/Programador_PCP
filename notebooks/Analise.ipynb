{
 "cells": [
  {
   "cell_type": "code",
   "execution_count": 1,
   "id": "de8cfa37",
   "metadata": {},
   "outputs": [],
   "source": [
    "import pandas as pd\n",
    "import sqlite3\n",
    "from datetime import datetime\n",
    "\n"
   ]
  },
  {
   "cell_type": "markdown",
   "id": "5e36de8a",
   "metadata": {},
   "source": [
    "---\n",
    "Importar cadastro de produtos para o banco"
   ]
  },
  {
   "cell_type": "code",
   "execution_count": null,
   "id": "6e338fa7",
   "metadata": {},
   "outputs": [],
   "source": [
    "cadastro_material = pd.read_excel(r'D:\\#Mega\\Jeferson - Dev\\02 - Linguagens\\Python\\Programador_PCP\\files\\AC4_relatorio_produtos.xlsx')"
   ]
  },
  {
   "cell_type": "markdown",
   "id": "2916e21d",
   "metadata": {},
   "source": [
    "---"
   ]
  },
  {
   "cell_type": "markdown",
   "id": "4422dcad",
   "metadata": {},
   "source": [
    "No arquivo \"Apontamento\" é necessário adicionar as colunas \n",
    "\n",
    "- Descrição reduzida\n",
    "- Codigo do grupo\n",
    "- Quantidade em fardos\n",
    "- Quantidade em kg"
   ]
  },
  {
   "cell_type": "code",
   "execution_count": null,
   "id": "b120296a",
   "metadata": {},
   "outputs": [
    {
     "name": "stderr",
     "output_type": "stream",
     "text": [
      "C:\\Users\\mp_br\\AppData\\Roaming\\Python\\Python311\\site-packages\\openpyxl\\styles\\stylesheet.py:237: UserWarning: Workbook contains no default style, apply openpyxl's default\n",
      "  warn(\"Workbook contains no default style, apply openpyxl's default\")\n"
     ]
    }
   ],
   "source": [
    "df_apontamento = pd.read_excel(r'D:\\#Mega\\Jeferson - Dev\\02 - Linguagens\\Python\\Programador_PCP\\files\\ACE4_op_apontamento.xlsx')"
   ]
  },
  {
   "cell_type": "code",
   "execution_count": 5,
   "id": "594706e6",
   "metadata": {},
   "outputs": [
    {
     "name": "stdout",
     "output_type": "stream",
     "text": [
      "<class 'pandas.core.frame.DataFrame'>\n",
      "RangeIndex: 1254 entries, 0 to 1253\n",
      "Data columns (total 20 columns):\n",
      " #   Column            Non-Null Count  Dtype         \n",
      "---  ------            --------------  -----         \n",
      " 0   Id_Op             1254 non-null   int64         \n",
      " 1   Id_Item           1254 non-null   int64         \n",
      " 2   Id_Produto        1254 non-null   object        \n",
      " 3   Descricao         1254 non-null   object        \n",
      " 4   UM                1254 non-null   object        \n",
      " 5   Dt_Horaini        1254 non-null   datetime64[ns]\n",
      " 6   Dt_Horaterm       1254 non-null   datetime64[ns]\n",
      " 7   Qtd_Prod          1254 non-null   float64       \n",
      " 8   Qtd_Sucata        1254 non-null   int64         \n",
      " 9   Qtd_Perda         1254 non-null   float64       \n",
      " 10  Qtd_Horas         1254 non-null   float64       \n",
      " 11  Qtd_Horas_Extra   1254 non-null   int64         \n",
      " 12  Qtd_Horas_Ociosa  1254 non-null   float64       \n",
      " 13  Status            1254 non-null   object        \n",
      " 14  Id_Maq            1253 non-null   float64       \n",
      " 15  Maq_Desc          1253 non-null   object        \n",
      " 16  Id_Pedido         0 non-null      float64       \n",
      " 17  Id_Cli_For        0 non-null      float64       \n",
      " 18  AnoMes            1254 non-null   object        \n",
      " 19  Qtd_Prod_Hora     1254 non-null   int64         \n",
      "dtypes: datetime64[ns](2), float64(7), int64(5), object(6)\n",
      "memory usage: 196.1+ KB\n"
     ]
    }
   ],
   "source": [
    "df_apontamento.info()"
   ]
  },
  {
   "cell_type": "code",
   "execution_count": null,
   "id": "df90e904",
   "metadata": {},
   "outputs": [],
   "source": []
  }
 ],
 "metadata": {
  "kernelspec": {
   "display_name": "Python 3",
   "language": "python",
   "name": "python3"
  },
  "language_info": {
   "codemirror_mode": {
    "name": "ipython",
    "version": 3
   },
   "file_extension": ".py",
   "mimetype": "text/x-python",
   "name": "python",
   "nbconvert_exporter": "python",
   "pygments_lexer": "ipython3",
   "version": "3.11.5"
  }
 },
 "nbformat": 4,
 "nbformat_minor": 5
}
