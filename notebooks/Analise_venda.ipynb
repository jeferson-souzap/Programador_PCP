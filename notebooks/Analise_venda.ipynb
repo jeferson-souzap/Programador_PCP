{
 "cells": [
  {
   "cell_type": "markdown",
   "id": "5e36de8a",
   "metadata": {},
   "source": [
    "# Analise De vendas de Janeiro/2019 a Maio/2025\n",
    "\n",
    "## Objetivo\n",
    "\n",
    "- Analisar o padrão de vendas mensal\n",
    "- Identificar recorrencias de compras\n",
    "- Analisar vendas por produto\n",
    "- Fazer a previsão de venda para o próxomi mês\n",
    "\n",
    "\n",
    "## Tecnicas usadas\n",
    "\n",
    "- Regressão linear\n",
    "- Churn\n",
    "- Forecast\n",
    "\n"
   ]
  },
  {
   "cell_type": "code",
   "execution_count": 23,
   "id": "de8cfa37",
   "metadata": {},
   "outputs": [],
   "source": [
    "import pandas as pd\n",
    "import numpy as np\n",
    "from datetime import datetime   \n",
    "import openpyxl\n",
    "from scipy import stats\n"
   ]
  },
  {
   "cell_type": "code",
   "execution_count": 24,
   "id": "6e338fa7",
   "metadata": {},
   "outputs": [
    {
     "name": "stderr",
     "output_type": "stream",
     "text": [
      "C:\\Users\\mp_br\\AppData\\Roaming\\Python\\Python311\\site-packages\\openpyxl\\styles\\stylesheet.py:237: UserWarning: Workbook contains no default style, apply openpyxl's default\n",
      "  warn(\"Workbook contains no default style, apply openpyxl's default\")\n",
      "C:\\Users\\mp_br\\AppData\\Roaming\\Python\\Python311\\site-packages\\openpyxl\\styles\\stylesheet.py:237: UserWarning: Workbook contains no default style, apply openpyxl's default\n",
      "  warn(\"Workbook contains no default style, apply openpyxl's default\")\n"
     ]
    }
   ],
   "source": [
    "dt_cad_material = pd.read_excel(r'D:\\#Mega\\Jeferson - Dev\\02 - Linguagens\\Python\\Programador_PCP\\files\\AC4_relatorio_produtos.xlsx')\n",
    "dt_faturamento = pd.read_excel(r'D:\\#Mega\\Jeferson - Dev\\02 - Linguagens\\Python\\Programador_PCP\\files\\vendasJAN2019-JUN2025.xlsx')"
   ]
  },
  {
   "cell_type": "markdown",
   "id": "22417f89",
   "metadata": {},
   "source": [
    "---"
   ]
  },
  {
   "cell_type": "markdown",
   "id": "2ebb32f3",
   "metadata": {},
   "source": [
    "### Limpeza do arquivo de cadastro de produtos\n",
    "\n",
    "- Filtrando relatorio de cadastro somente para bobinas de unidade\n",
    "- Removento colunas que não usadas"
   ]
  },
  {
   "cell_type": "code",
   "execution_count": 44,
   "id": "55a217f3",
   "metadata": {},
   "outputs": [],
   "source": [
    "#filtro somente com bobinas de unidade\n",
    "dt_cadastro_filtro = dt_cad_material[dt_cad_material['Cód. Grupo'] == 'BPUN']"
   ]
  },
  {
   "cell_type": "code",
   "execution_count": null,
   "id": "e67395f8",
   "metadata": {},
   "outputs": [],
   "source": [
    "#Removendo colunas que não preciso\n",
    "colunas_remover = ['Data da inclusão', 'Ativo', 'Tipo', 'Grupo', 'Linha', 'Peso Cúbico', 'Altura', 'Comprimento', 'Largura',\n",
    "       'Código de Barras','%IPI', 'Procede', 'NCM', 'Sit. Trib.', 'Estoque Mín.', 'Estoque Máx.', 'Inc. Plan.',\n",
    "       'Meses Estoque', 'Produto de Ref. 1', 'Produto de Ref. 2', 'Projeto',\n",
    "       'Local Depósito', 'Local Depósito 1', 'Local Depósito 2', 'C. Custo',\n",
    "       'Desc. C. Custo', 'Cód. Cliente', 'Razão Social', 'Fantasia',\n",
    "       'Incluído por', 'Alterado por', 'Data da alteração', 'Valor de Custo',\n",
    "       'Valor Venda', 'Aplicacao', 'Saldo (Alm. 1)']\n",
    "\n",
    "report_cadastro = dt_cadastro_filtro.drop(colunas_remover, axis=1)"
   ]
  },
  {
   "cell_type": "markdown",
   "id": "645c01aa",
   "metadata": {},
   "source": [
    "---"
   ]
  },
  {
   "cell_type": "markdown",
   "id": "1608b03d",
   "metadata": {},
   "source": [
    "### Configurando relatório de vendas \n",
    "\n",
    "- Removento colunas não usadas"
   ]
  },
  {
   "cell_type": "code",
   "execution_count": 51,
   "id": "4cb55a78",
   "metadata": {},
   "outputs": [],
   "source": [
    "colunas_fat = ['Qtd. Pedidos', 'Pedido', 'Cód. Vendedor', \n",
    "               'Vendedor', 'Status', 'Cliente', 'Marca', \n",
    "               'Descrição Marca', 'Dt. Entrega', 'Nr_Nf', \n",
    "               'Data da inclusão', 'VU_Item_Neg', 'Vlr. Custo', 'Nr_Pedido_Cliente', 'Obs']\n",
    "\n",
    "report_fat = dt_faturamento.drop(colunas_fat, axis=1)"
   ]
  },
  {
   "cell_type": "markdown",
   "id": "208704b6",
   "metadata": {},
   "source": [
    "---"
   ]
  },
  {
   "cell_type": "markdown",
   "id": "b98b156a",
   "metadata": {},
   "source": [
    "### Limpeza de dados vendas\n",
    "\n",
    "- Conversão de valores nas colunas\n",
    "- Criar colunas de dia mes e ano\n",
    "- Eliminar dados ausentes\n",
    "- Filtrar somente bobinas (BPKG, BPUN, PAD, PBD)\n"
   ]
  },
  {
   "cell_type": "markdown",
   "id": "bae14842",
   "metadata": {},
   "source": [
    "---"
   ]
  },
  {
   "cell_type": "code",
   "execution_count": 54,
   "metadata": {},
   "outputs": [],
   "source": [
    "report_fat['dia'] = report_fat['Dt. Faturado'].dt.day\n",
    "report_fat['mes'] = report_fat['Dt. Faturado'].dt.month\n",
    "report_fat['ano'] = report_fat['Dt. Faturado'].dt.year"
   ]
  },
  {
   "cell_type": "code",
   "execution_count": 55,
   "id": "d1665883",
   "metadata": {},
   "outputs": [
    {
     "data": {
      "application/vnd.microsoft.datawrangler.viewer.v0+json": {
       "columns": [
        {
         "name": "index",
         "rawType": "int64",
         "type": "integer"
        },
        {
         "name": "Razão Social",
         "rawType": "object",
         "type": "string"
        },
        {
         "name": "Dt. Faturado",
         "rawType": "datetime64[ns]",
         "type": "datetime"
        },
        {
         "name": "Valor",
         "rawType": "float64",
         "type": "float"
        },
        {
         "name": "Qtd.",
         "rawType": "float64",
         "type": "float"
        },
        {
         "name": "Produto",
         "rawType": "object",
         "type": "string"
        },
        {
         "name": "Descrição Produto.",
         "rawType": "object",
         "type": "string"
        },
        {
         "name": "Qtd. Volumes",
         "rawType": "float64",
         "type": "float"
        },
        {
         "name": "Cód Grupo",
         "rawType": "object",
         "type": "string"
        },
        {
         "name": "Descrição do Produto",
         "rawType": "object",
         "type": "string"
        },
        {
         "name": "dia",
         "rawType": "int32",
         "type": "integer"
        },
        {
         "name": "mes",
         "rawType": "int32",
         "type": "integer"
        },
        {
         "name": "ano",
         "rawType": "int32",
         "type": "integer"
        }
       ],
       "ref": "d78a1c4a-3761-4ab3-88c6-afa83031593f",
       "rows": [
        [
         "0",
         "100% EMBAL DIST DE ALEM PARAIBA LTDA EPP",
         "2021-08-05 09:57:55.383000",
         "1416.65",
         "97.7",
         "20002",
         "BOB PICOTADA 20X35 FUNDO RETO",
         "8.0",
         "BPKG",
         "BOBINA PICOTADA - KG",
         "5",
         "8",
         "2021"
        ],
        [
         "1",
         "100% EMBAL DIST DE ALEM PARAIBA LTDA EPP",
         "2021-08-05 09:57:55.383000",
         "1386.2",
         "95.6",
         "20003",
         "BOB PICOTADA 25X35 FUNDO RETO",
         "6.0",
         "BPKG",
         "BOBINA PICOTADA - KG",
         "5",
         "8",
         "2021"
        ],
        [
         "2",
         "100% EMBAL DIST DE ALEM PARAIBA LTDA EPP",
         "2021-08-05 09:57:55.383000",
         "4392.05",
         "302.9",
         "20004",
         "BOB PICOTADA 30X40 FUNDO RETO",
         "16.0",
         "BPKG",
         "BOBINA PICOTADA - KG",
         "5",
         "8",
         "2021"
        ],
        [
         "3",
         "100% EMBAL DIST DE ALEM PARAIBA LTDA EPP",
         "2021-08-05 09:57:55.383000",
         "3407.5",
         "235.0",
         "20005",
         "BOB PICOTADA 35X50 FUNDO RETO",
         "14.0",
         "BPKG",
         "BOBINA PICOTADA - KG",
         "5",
         "8",
         "2021"
        ],
        [
         "4",
         "100% EMBAL DIST DE ALEM PARAIBA LTDA EPP",
         "2021-08-05 09:57:55.383000",
         "1377.5",
         "95.0",
         "20006",
         "BOB PICOTADA 40X50 FUNDO RETO",
         "5.0",
         "BPKG",
         "BOBINA PICOTADA - KG",
         "5",
         "8",
         "2021"
        ]
       ],
       "shape": {
        "columns": 12,
        "rows": 5
       }
      },
      "text/html": [
       "<div>\n",
       "<style scoped>\n",
       "    .dataframe tbody tr th:only-of-type {\n",
       "        vertical-align: middle;\n",
       "    }\n",
       "\n",
       "    .dataframe tbody tr th {\n",
       "        vertical-align: top;\n",
       "    }\n",
       "\n",
       "    .dataframe thead th {\n",
       "        text-align: right;\n",
       "    }\n",
       "</style>\n",
       "<table border=\"1\" class=\"dataframe\">\n",
       "  <thead>\n",
       "    <tr style=\"text-align: right;\">\n",
       "      <th></th>\n",
       "      <th>Razão Social</th>\n",
       "      <th>Dt. Faturado</th>\n",
       "      <th>Valor</th>\n",
       "      <th>Qtd.</th>\n",
       "      <th>Produto</th>\n",
       "      <th>Descrição Produto.</th>\n",
       "      <th>Qtd. Volumes</th>\n",
       "      <th>Cód Grupo</th>\n",
       "      <th>Descrição do Produto</th>\n",
       "      <th>dia</th>\n",
       "      <th>mes</th>\n",
       "      <th>ano</th>\n",
       "    </tr>\n",
       "  </thead>\n",
       "  <tbody>\n",
       "    <tr>\n",
       "      <th>0</th>\n",
       "      <td>100% EMBAL DIST DE ALEM PARAIBA LTDA EPP</td>\n",
       "      <td>2021-08-05 09:57:55.383</td>\n",
       "      <td>1416.65</td>\n",
       "      <td>97.7</td>\n",
       "      <td>20002</td>\n",
       "      <td>BOB PICOTADA 20X35 FUNDO RETO</td>\n",
       "      <td>8.0</td>\n",
       "      <td>BPKG</td>\n",
       "      <td>BOBINA PICOTADA - KG</td>\n",
       "      <td>5</td>\n",
       "      <td>8</td>\n",
       "      <td>2021</td>\n",
       "    </tr>\n",
       "    <tr>\n",
       "      <th>1</th>\n",
       "      <td>100% EMBAL DIST DE ALEM PARAIBA LTDA EPP</td>\n",
       "      <td>2021-08-05 09:57:55.383</td>\n",
       "      <td>1386.20</td>\n",
       "      <td>95.6</td>\n",
       "      <td>20003</td>\n",
       "      <td>BOB PICOTADA 25X35 FUNDO RETO</td>\n",
       "      <td>6.0</td>\n",
       "      <td>BPKG</td>\n",
       "      <td>BOBINA PICOTADA - KG</td>\n",
       "      <td>5</td>\n",
       "      <td>8</td>\n",
       "      <td>2021</td>\n",
       "    </tr>\n",
       "    <tr>\n",
       "      <th>2</th>\n",
       "      <td>100% EMBAL DIST DE ALEM PARAIBA LTDA EPP</td>\n",
       "      <td>2021-08-05 09:57:55.383</td>\n",
       "      <td>4392.05</td>\n",
       "      <td>302.9</td>\n",
       "      <td>20004</td>\n",
       "      <td>BOB PICOTADA 30X40 FUNDO RETO</td>\n",
       "      <td>16.0</td>\n",
       "      <td>BPKG</td>\n",
       "      <td>BOBINA PICOTADA - KG</td>\n",
       "      <td>5</td>\n",
       "      <td>8</td>\n",
       "      <td>2021</td>\n",
       "    </tr>\n",
       "    <tr>\n",
       "      <th>3</th>\n",
       "      <td>100% EMBAL DIST DE ALEM PARAIBA LTDA EPP</td>\n",
       "      <td>2021-08-05 09:57:55.383</td>\n",
       "      <td>3407.50</td>\n",
       "      <td>235.0</td>\n",
       "      <td>20005</td>\n",
       "      <td>BOB PICOTADA 35X50 FUNDO RETO</td>\n",
       "      <td>14.0</td>\n",
       "      <td>BPKG</td>\n",
       "      <td>BOBINA PICOTADA - KG</td>\n",
       "      <td>5</td>\n",
       "      <td>8</td>\n",
       "      <td>2021</td>\n",
       "    </tr>\n",
       "    <tr>\n",
       "      <th>4</th>\n",
       "      <td>100% EMBAL DIST DE ALEM PARAIBA LTDA EPP</td>\n",
       "      <td>2021-08-05 09:57:55.383</td>\n",
       "      <td>1377.50</td>\n",
       "      <td>95.0</td>\n",
       "      <td>20006</td>\n",
       "      <td>BOB PICOTADA 40X50 FUNDO RETO</td>\n",
       "      <td>5.0</td>\n",
       "      <td>BPKG</td>\n",
       "      <td>BOBINA PICOTADA - KG</td>\n",
       "      <td>5</td>\n",
       "      <td>8</td>\n",
       "      <td>2021</td>\n",
       "    </tr>\n",
       "  </tbody>\n",
       "</table>\n",
       "</div>"
      ],
      "text/plain": [
       "                               Razão Social            Dt. Faturado    Valor  \\\n",
       "0  100% EMBAL DIST DE ALEM PARAIBA LTDA EPP 2021-08-05 09:57:55.383  1416.65   \n",
       "1  100% EMBAL DIST DE ALEM PARAIBA LTDA EPP 2021-08-05 09:57:55.383  1386.20   \n",
       "2  100% EMBAL DIST DE ALEM PARAIBA LTDA EPP 2021-08-05 09:57:55.383  4392.05   \n",
       "3  100% EMBAL DIST DE ALEM PARAIBA LTDA EPP 2021-08-05 09:57:55.383  3407.50   \n",
       "4  100% EMBAL DIST DE ALEM PARAIBA LTDA EPP 2021-08-05 09:57:55.383  1377.50   \n",
       "\n",
       "    Qtd. Produto             Descrição Produto.  Qtd. Volumes Cód Grupo  \\\n",
       "0   97.7   20002  BOB PICOTADA 20X35 FUNDO RETO           8.0      BPKG   \n",
       "1   95.6   20003  BOB PICOTADA 25X35 FUNDO RETO           6.0      BPKG   \n",
       "2  302.9   20004  BOB PICOTADA 30X40 FUNDO RETO          16.0      BPKG   \n",
       "3  235.0   20005  BOB PICOTADA 35X50 FUNDO RETO          14.0      BPKG   \n",
       "4   95.0   20006  BOB PICOTADA 40X50 FUNDO RETO           5.0      BPKG   \n",
       "\n",
       "   Descrição do Produto  dia  mes   ano  \n",
       "0  BOBINA PICOTADA - KG    5    8  2021  \n",
       "1  BOBINA PICOTADA - KG    5    8  2021  \n",
       "2  BOBINA PICOTADA - KG    5    8  2021  \n",
       "3  BOBINA PICOTADA - KG    5    8  2021  \n",
       "4  BOBINA PICOTADA - KG    5    8  2021  "
      ]
     },
     "execution_count": 55,
     "metadata": {},
     "output_type": "execute_result"
    }
   ],
   "source": [
    "report_fat.head()"
   ]
  },
  {
   "cell_type": "code",
   "execution_count": null,
   "id": "b643bf9d",
   "metadata": {},
   "outputs": [],
   "source": []
  },
  {
   "cell_type": "code",
   "execution_count": null,
   "id": "8fec5b4e",
   "metadata": {},
   "outputs": [],
   "source": []
  },
  {
   "cell_type": "code",
   "execution_count": null,
   "id": "a0c44edb",
   "metadata": {},
   "outputs": [],
   "source": []
  },
  {
   "cell_type": "code",
   "execution_count": null,
   "id": "403e7057",
   "metadata": {},
   "outputs": [],
   "source": []
  }
 ],
 "metadata": {
  "kernelspec": {
   "display_name": "Python 3",
   "language": "python",
   "name": "python3"
  },
  "language_info": {
   "codemirror_mode": {
    "name": "ipython",
    "version": 3
   },
   "file_extension": ".py",
   "mimetype": "text/x-python",
   "name": "python",
   "nbconvert_exporter": "python",
   "pygments_lexer": "ipython3",
   "version": "3.11.5"
  }
 },
 "nbformat": 4,
 "nbformat_minor": 5
}
